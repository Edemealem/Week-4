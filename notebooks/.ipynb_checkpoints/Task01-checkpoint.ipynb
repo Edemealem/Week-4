{
 "cells": [
  {
   "cell_type": "code",
   "execution_count": 4,
   "id": "ffe61416-be25-4952-af43-c6fb9e9ff234",
   "metadata": {},
   "outputs": [],
   "source": [
    "import pandas as pd\n",
    "from sqlalchemy import create_engine\n",
    "import psycopg2"
   ]
  },
  {
   "cell_type": "markdown",
   "id": "fd046f7b-5929-471d-9a98-b33e214b6180",
   "metadata": {},
   "source": [
    "Database Connection"
   ]
  },
  {
   "cell_type": "code",
   "execution_count": 9,
   "id": "e3318c5f-aae7-4dac-8f54-8b51c1a32a14",
   "metadata": {},
   "outputs": [
    {
     "data": {
      "text/html": [
       "<div>\n",
       "<style scoped>\n",
       "    .dataframe tbody tr th:only-of-type {\n",
       "        vertical-align: middle;\n",
       "    }\n",
       "\n",
       "    .dataframe tbody tr th {\n",
       "        vertical-align: top;\n",
       "    }\n",
       "\n",
       "    .dataframe thead th {\n",
       "        text-align: right;\n",
       "    }\n",
       "</style>\n",
       "<table border=\"1\" class=\"dataframe\">\n",
       "  <thead>\n",
       "    <tr style=\"text-align: right;\">\n",
       "      <th></th>\n",
       "      <th>Bearer Id</th>\n",
       "      <th>Start</th>\n",
       "      <th>Start ms</th>\n",
       "      <th>End</th>\n",
       "      <th>End ms</th>\n",
       "      <th>Dur. (ms)</th>\n",
       "      <th>IMSI</th>\n",
       "      <th>MSISDN/Number</th>\n",
       "      <th>IMEI</th>\n",
       "      <th>Last Location Name</th>\n",
       "      <th>...</th>\n",
       "      <th>Youtube DL (Bytes)</th>\n",
       "      <th>Youtube UL (Bytes)</th>\n",
       "      <th>Netflix DL (Bytes)</th>\n",
       "      <th>Netflix UL (Bytes)</th>\n",
       "      <th>Gaming DL (Bytes)</th>\n",
       "      <th>Gaming UL (Bytes)</th>\n",
       "      <th>Other DL (Bytes)</th>\n",
       "      <th>Other UL (Bytes)</th>\n",
       "      <th>Total UL (Bytes)</th>\n",
       "      <th>Total DL (Bytes)</th>\n",
       "    </tr>\n",
       "  </thead>\n",
       "  <tbody>\n",
       "    <tr>\n",
       "      <th>0</th>\n",
       "      <td>1.311448e+19</td>\n",
       "      <td>4/4/2019 12:01</td>\n",
       "      <td>770.0</td>\n",
       "      <td>4/25/2019 14:35</td>\n",
       "      <td>662.0</td>\n",
       "      <td>1823652.0</td>\n",
       "      <td>2.082014e+14</td>\n",
       "      <td>3.366496e+10</td>\n",
       "      <td>3.552121e+13</td>\n",
       "      <td>9.16456699548519E+015</td>\n",
       "      <td>...</td>\n",
       "      <td>15854611.0</td>\n",
       "      <td>2501332.0</td>\n",
       "      <td>8198936.0</td>\n",
       "      <td>9656251.0</td>\n",
       "      <td>278082303.0</td>\n",
       "      <td>14344150.0</td>\n",
       "      <td>171744450.0</td>\n",
       "      <td>8814393.0</td>\n",
       "      <td>36749741.0</td>\n",
       "      <td>308879636.0</td>\n",
       "    </tr>\n",
       "    <tr>\n",
       "      <th>1</th>\n",
       "      <td>1.311448e+19</td>\n",
       "      <td>4/9/2019 13:04</td>\n",
       "      <td>235.0</td>\n",
       "      <td>4/25/2019 8:15</td>\n",
       "      <td>606.0</td>\n",
       "      <td>1365104.0</td>\n",
       "      <td>2.082019e+14</td>\n",
       "      <td>3.368185e+10</td>\n",
       "      <td>3.579401e+13</td>\n",
       "      <td>L77566A</td>\n",
       "      <td>...</td>\n",
       "      <td>20247395.0</td>\n",
       "      <td>19111729.0</td>\n",
       "      <td>18338413.0</td>\n",
       "      <td>17227132.0</td>\n",
       "      <td>608750074.0</td>\n",
       "      <td>1170709.0</td>\n",
       "      <td>526904238.0</td>\n",
       "      <td>15055145.0</td>\n",
       "      <td>53800391.0</td>\n",
       "      <td>653384965.0</td>\n",
       "    </tr>\n",
       "  </tbody>\n",
       "</table>\n",
       "<p>2 rows × 55 columns</p>\n",
       "</div>"
      ],
      "text/plain": [
       "      Bearer Id           Start  Start ms              End  End ms  Dur. (ms)  \\\n",
       "0  1.311448e+19  4/4/2019 12:01     770.0  4/25/2019 14:35   662.0  1823652.0   \n",
       "1  1.311448e+19  4/9/2019 13:04     235.0   4/25/2019 8:15   606.0  1365104.0   \n",
       "\n",
       "           IMSI  MSISDN/Number          IMEI     Last Location Name  ...  \\\n",
       "0  2.082014e+14   3.366496e+10  3.552121e+13  9.16456699548519E+015  ...   \n",
       "1  2.082019e+14   3.368185e+10  3.579401e+13                L77566A  ...   \n",
       "\n",
       "   Youtube DL (Bytes)  Youtube UL (Bytes)  Netflix DL (Bytes)  \\\n",
       "0          15854611.0           2501332.0           8198936.0   \n",
       "1          20247395.0          19111729.0          18338413.0   \n",
       "\n",
       "   Netflix UL (Bytes)  Gaming DL (Bytes)  Gaming UL (Bytes)  Other DL (Bytes)  \\\n",
       "0           9656251.0        278082303.0         14344150.0       171744450.0   \n",
       "1          17227132.0        608750074.0          1170709.0       526904238.0   \n",
       "\n",
       "   Other UL (Bytes)  Total UL (Bytes)  Total DL (Bytes)  \n",
       "0         8814393.0        36749741.0       308879636.0  \n",
       "1        15055145.0        53800391.0       653384965.0  \n",
       "\n",
       "[2 rows x 55 columns]"
      ]
     },
     "execution_count": 9,
     "metadata": {},
     "output_type": "execute_result"
    }
   ],
   "source": [
    "db_username = 'postgres'\n",
    "db_password = 'root'\n",
    "db_host = 'localhost'\n",
    "db_port = '5432'\n",
    "db_name = 'week2'\n",
    "\n",
    "connection_string = f'postgresql://{db_username}:{db_password}@{db_host}:{db_port}/{db_name}'\n",
    "engine = create_engine(connection_string)\n",
    "\n",
    "data = pd.read_sql(\"SELECT * FROM xdr_data\", engine)\n",
    "data.head(2)"
   ]
  },
  {
   "cell_type": "code",
   "execution_count": 10,
   "id": "7e84217b-39cd-4d97-ac0d-012ba774412f",
   "metadata": {},
   "outputs": [
    {
     "data": {
      "text/plain": [
       "Index(['Bearer Id', 'Start', 'Start ms', 'End', 'End ms', 'Dur. (ms)', 'IMSI',\n",
       "       'MSISDN/Number', 'IMEI', 'Last Location Name', 'Avg RTT DL (ms)',\n",
       "       'Avg RTT UL (ms)', 'Avg Bearer TP DL (kbps)', 'Avg Bearer TP UL (kbps)',\n",
       "       'TCP DL Retrans. Vol (Bytes)', 'TCP UL Retrans. Vol (Bytes)',\n",
       "       'DL TP < 50 Kbps (%)', '50 Kbps < DL TP < 250 Kbps (%)',\n",
       "       '250 Kbps < DL TP < 1 Mbps (%)', 'DL TP > 1 Mbps (%)',\n",
       "       'UL TP < 10 Kbps (%)', '10 Kbps < UL TP < 50 Kbps (%)',\n",
       "       '50 Kbps < UL TP < 300 Kbps (%)', 'UL TP > 300 Kbps (%)',\n",
       "       'HTTP DL (Bytes)', 'HTTP UL (Bytes)', 'Activity Duration DL (ms)',\n",
       "       'Activity Duration UL (ms)', 'Dur. (ms).1', 'Handset Manufacturer',\n",
       "       'Handset Type', 'Nb of sec with 125000B < Vol DL',\n",
       "       'Nb of sec with 1250B < Vol UL < 6250B',\n",
       "       'Nb of sec with 31250B < Vol DL < 125000B',\n",
       "       'Nb of sec with 37500B < Vol UL',\n",
       "       'Nb of sec with 6250B < Vol DL < 31250B',\n",
       "       'Nb of sec with 6250B < Vol UL < 37500B',\n",
       "       'Nb of sec with Vol DL < 6250B', 'Nb of sec with Vol UL < 1250B',\n",
       "       'Social Media DL (Bytes)', 'Social Media UL (Bytes)',\n",
       "       'Google DL (Bytes)', 'Google UL (Bytes)', 'Email DL (Bytes)',\n",
       "       'Email UL (Bytes)', 'Youtube DL (Bytes)', 'Youtube UL (Bytes)',\n",
       "       'Netflix DL (Bytes)', 'Netflix UL (Bytes)', 'Gaming DL (Bytes)',\n",
       "       'Gaming UL (Bytes)', 'Other DL (Bytes)', 'Other UL (Bytes)',\n",
       "       'Total UL (Bytes)', 'Total DL (Bytes)'],\n",
       "      dtype='object')"
      ]
     },
     "execution_count": 10,
     "metadata": {},
     "output_type": "execute_result"
    }
   ],
   "source": [
    "data.columns"
   ]
  },
  {
   "cell_type": "markdown",
   "id": "9f656b58-80c8-422c-ac5b-4c28eda3640e",
   "metadata": {},
   "source": [
    "Task 1 - User Overview Analysis "
   ]
  },
  {
   "cell_type": "code",
   "execution_count": 18,
   "id": "055188f1-c300-4d19-920d-0bc7feb8b950",
   "metadata": {},
   "outputs": [
    {
     "name": "stdout",
     "output_type": "stream",
     "text": [
      "Top 10 Handsets Used by Customers:\n",
      "Handset Type\n",
      "Huawei B528S-23A                19752\n",
      "Apple iPhone 6S (A1688)          9419\n",
      "Apple iPhone 6 (A1586)           9023\n",
      "undefined                        8987\n",
      "Apple iPhone 7 (A1778)           6326\n",
      "Apple iPhone Se (A1723)          5187\n",
      "Apple iPhone 8 (A1905)           4993\n",
      "Apple iPhone Xr (A2105)          4568\n",
      "Samsung Galaxy S8 (Sm-G950F)     4520\n",
      "Apple iPhone X (A1901)           3813\n",
      "Name: count, dtype: int64\n"
     ]
    }
   ],
   "source": [
    "top_handsets = data['Handset Type'].value_counts().head(10)\n",
    "\n",
    "# printout  top 10 manufacturers\n",
    "print(\"Top 10 Handsets Used by Customers:\")\n",
    "print(top_handsets)"
   ]
  },
  {
   "cell_type": "markdown",
   "id": "e983738c-9ce2-46a7-a74f-77467eabbdbe",
   "metadata": {},
   "source": [
    "Top 3 Handset Manufacturers"
   ]
  },
  {
   "cell_type": "code",
   "execution_count": 19,
   "id": "d947bdcb-e7c5-4c30-b79a-44f67fdb5d99",
   "metadata": {},
   "outputs": [
    {
     "name": "stdout",
     "output_type": "stream",
     "text": [
      "\n",
      "Top 3 Handset Manufacturers:\n",
      "Handset Manufacturer\n",
      "Apple      59565\n",
      "Samsung    40839\n",
      "Huawei     34423\n",
      "Name: count, dtype: int64\n"
     ]
    }
   ],
   "source": [
    "top_manufacturers = data['Handset Manufacturer'].value_counts().head(3)\n",
    "\n",
    "# printout top 3 manufacturers\n",
    "print(\"\\nTop 3 Handset Manufacturers:\")\n",
    "print(top_manufacturers)"
   ]
  },
  {
   "cell_type": "code",
   "execution_count": 31,
   "id": "81d1e6d9-07c8-4943-b99b-c42165a019f4",
   "metadata": {},
   "outputs": [
    {
     "name": "stdout",
     "output_type": "stream",
     "text": [
      "\n",
      "Top 5 Handsets per Top 3 Manufacturers:\n",
      "Apple:\n",
      "Handset Type\n",
      "Apple iPhone 6S (A1688)    9419\n",
      "Apple iPhone 6 (A1586)     9023\n",
      "Apple iPhone 7 (A1778)     6326\n",
      "Apple iPhone Se (A1723)    5187\n",
      "Apple iPhone 8 (A1905)     4993\n",
      "Name: count, dtype: int64\n",
      "Samsung:\n",
      "Handset Type\n",
      "Samsung Galaxy S8 (Sm-G950F)    4520\n",
      "Samsung Galaxy A5 Sm-A520F      3724\n",
      "Samsung Galaxy J5 (Sm-J530)     3696\n",
      "Samsung Galaxy J3 (Sm-J330)     3484\n",
      "Samsung Galaxy S7 (Sm-G930X)    3199\n",
      "Name: count, dtype: int64\n",
      "Huawei:\n",
      "Handset Type\n",
      "Huawei B528S-23A                  19752\n",
      "Huawei E5180                       2079\n",
      "Huawei P20 Lite Huawei Nova 3E     2021\n",
      "Huawei P20                         1480\n",
      "Huawei Y6 2018                      997\n",
      "Name: count, dtype: int64\n"
     ]
    }
   ],
   "source": [
    "top_manufacturers = data['Handset Manufacturer'].value_counts().head(3)\n",
    "top_manufacturer_names = list(top_manufacturers.index)\n",
    "top_manufacturer_names\n",
    "\n",
    "top_handsets_per_manufacturer = {}\n",
    "\n",
    "for manufacturer in top_manufacturer_names:\n",
    "    top_handsets_per_manufacturer[manufacturer] = data[data['Handset Manufacturer'] == manufacturer]['Handset Type'].value_counts().head(5)\n",
    "\n",
    "# printout the results\n",
    "print(\"\\nTop 5 Handsets per Top 3 Manufacturers:\")\n",
    "for manufacturer, handsets in top_handsets_per_manufacturer.items():\n",
    "    print(f\"{manufacturer}:\")\n",
    "    print(handsets)"
   ]
  },
  {
   "cell_type": "code",
   "execution_count": null,
   "id": "1d7f6b34-c92a-4026-b6e4-fa4e2dc1431f",
   "metadata": {},
   "outputs": [],
   "source": [
    "top_manufacturers"
   ]
  },
  {
   "cell_type": "code",
   "execution_count": null,
   "id": "54b62c03-6235-45af-8ad6-215f2d388bb8",
   "metadata": {},
   "outputs": [],
   "source": []
  }
 ],
 "metadata": {
  "kernelspec": {
   "display_name": "Python 3 (ipykernel)",
   "language": "python",
   "name": "python3"
  },
  "language_info": {
   "codemirror_mode": {
    "name": "ipython",
    "version": 3
   },
   "file_extension": ".py",
   "mimetype": "text/x-python",
   "name": "python",
   "nbconvert_exporter": "python",
   "pygments_lexer": "ipython3",
   "version": "3.12.4"
  }
 },
 "nbformat": 4,
 "nbformat_minor": 5
}
