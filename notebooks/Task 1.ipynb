{
 "cells": [
  {
   "cell_type": "code",
   "execution_count": 241,
   "id": "212c0327-759f-4d0b-9b52-681c30bc7f98",
   "metadata": {},
   "outputs": [],
   "source": [
    "import logging\n",
    "import pandas as pd\n",
    "import numpy as np\n",
    "import seaborn as sns\n",
    "import matplotlib.pyplot as plt\n",
    "from sklearn.impute import SimpleImputer\n",
    "from sklearn.pipeline import make_pipeline\n",
    "from sklearn.compose import ColumnTransformer\n",
    "from sklearn.ensemble import RandomForestClassifier"
   ]
  },
  {
   "cell_type": "code",
   "execution_count": 329,
   "id": "531f3f07-c275-4480-8896-074c7e5d799f",
   "metadata": {},
   "outputs": [],
   "source": [
    "train = pd.read_csv(\"F:\\\\10 ACadamy data\\\\Week 4 data and report\\\\train.csv\",low_memory=False)\n",
    "store = pd.read_csv(\"F:\\\\10 ACadamy data\\\\Week 4 data and report\\\\store.csv\")\n",
    "test = pd.read_csv(\"F:\\\\10 ACadamy data\\\\Week 4 data and report\\\\test.csv\")"
   ]
  },
  {
   "cell_type": "code",
   "execution_count": 330,
   "id": "998b5cc9-003d-4071-a5d6-aeb1e11791a9",
   "metadata": {},
   "outputs": [],
   "source": [
    "train_data = train.merge(store, on='Store', how='left')\n",
    "test_data = test.merge(store, on='Store', how='left')"
   ]
  },
  {
   "cell_type": "markdown",
   "id": "877b1689-484d-4536-8dae-a154772dda64",
   "metadata": {},
   "source": [
    "## Handling Missing values"
   ]
  },
  {
   "cell_type": "markdown",
   "id": "5a40f8ac-a652-412a-bd70-6013a097740f",
   "metadata": {},
   "source": [
    "-  Creating pipeline for both numeric and categorical features"
   ]
  },
  {
   "cell_type": "markdown",
   "id": "adc890c8-a6d8-456d-b34b-09f79793f0e6",
   "metadata": {},
   "source": [
    "# Check for missing values"
   ]
  },
  {
   "cell_type": "code",
   "execution_count": 331,
   "id": "5584f5ca-ecb3-4de9-96c7-229a799cbcd3",
   "metadata": {},
   "outputs": [],
   "source": [
    "missing_values = train_data.isnull().sum()\n",
    "logging.info(f'Missing values:\\n{missing_values}')"
   ]
  },
  {
   "cell_type": "code",
   "execution_count": 332,
   "id": "a02e14a4-1127-4987-87a7-83f5ba53e490",
   "metadata": {},
   "outputs": [
    {
     "data": {
      "text/plain": [
       "Store                             0\n",
       "DayOfWeek                         0\n",
       "Date                              0\n",
       "Sales                             0\n",
       "Customers                         0\n",
       "Open                              0\n",
       "Promo                             0\n",
       "StateHoliday                      0\n",
       "SchoolHoliday                     0\n",
       "StoreType                         0\n",
       "Assortment                        0\n",
       "CompetitionDistance            2642\n",
       "CompetitionOpenSinceMonth    323348\n",
       "CompetitionOpenSinceYear     323348\n",
       "Promo2                            0\n",
       "Promo2SinceWeek              508031\n",
       "Promo2SinceYear              508031\n",
       "PromoInterval                508031\n",
       "dtype: int64"
      ]
     },
     "execution_count": 332,
     "metadata": {},
     "output_type": "execute_result"
    }
   ],
   "source": [
    "train_data.isnull().sum()"
   ]
  },
  {
   "cell_type": "markdown",
   "id": "ec76db10-59e3-42c1-9236-6b7903485c87",
   "metadata": {},
   "source": [
    "## Map StateHoliday"
   ]
  },
  {
   "cell_type": "code",
   "execution_count": 333,
   "id": "28433477-8326-42c1-b6dd-83367f5cf191",
   "metadata": {},
   "outputs": [
    {
     "name": "stdout",
     "output_type": "stream",
     "text": [
      "[1 0]\n"
     ]
    }
   ],
   "source": [
    "print(train_data[\"SchoolHoliday\"].unique()) "
   ]
  },
  {
   "cell_type": "code",
   "execution_count": 334,
   "id": "7b9d7dfa-5f78-45e7-bc54-2c42eca6f94d",
   "metadata": {},
   "outputs": [
    {
     "name": "stdout",
     "output_type": "stream",
     "text": [
      "['0' 'a' 'b' 'c']\n"
     ]
    }
   ],
   "source": [
    "print(train_data[\"StateHoliday\"].unique()) "
   ]
  },
  {
   "cell_type": "code",
   "execution_count": 335,
   "id": "26f2905f-708d-4691-8b3b-60566f06284a",
   "metadata": {},
   "outputs": [
    {
     "data": {
      "text/plain": [
       "array([0, 1, 2, 3])"
      ]
     },
     "execution_count": 335,
     "metadata": {},
     "output_type": "execute_result"
    }
   ],
   "source": [
    "train_data[\"StateHoliday\"] = train_data[\"StateHoliday\"].map({'0': 0, 'a': 1, 'b': 2, 'c': 3})\n",
    "train_data[\"StateHoliday\"].unique()"
   ]
  },
  {
   "cell_type": "markdown",
   "id": "edd7b8ae-1a8e-4cb5-8b23-0343ca865cc0",
   "metadata": {},
   "source": [
    "## Convert Date time format"
   ]
  },
  {
   "cell_type": "code",
   "execution_count": 336,
   "id": "cdd7ee04-f272-497f-9c8a-6161a4c3b439",
   "metadata": {},
   "outputs": [],
   "source": [
    "train_data[\"Date\"] = pd.to_datetime(train_data[\"Date\"])"
   ]
  },
  {
   "cell_type": "markdown",
   "id": "2bf93daa-ad06-483b-a932-e9a0b1eb0afd",
   "metadata": {},
   "source": [
    "# Detect outliers"
   ]
  },
  {
   "cell_type": "code",
   "execution_count": 337,
   "id": "318bbc5f-5234-4503-bb9a-2d6ab0ef7a0d",
   "metadata": {},
   "outputs": [
    {
     "data": {
      "text/plain": [
       "Store                                 int64\n",
       "DayOfWeek                             int64\n",
       "Date                         datetime64[ns]\n",
       "Sales                                 int64\n",
       "Customers                             int64\n",
       "Open                                  int64\n",
       "Promo                                 int64\n",
       "StateHoliday                          int64\n",
       "SchoolHoliday                         int64\n",
       "StoreType                            object\n",
       "Assortment                           object\n",
       "CompetitionDistance                 float64\n",
       "CompetitionOpenSinceMonth           float64\n",
       "CompetitionOpenSinceYear            float64\n",
       "Promo2                                int64\n",
       "Promo2SinceWeek                     float64\n",
       "Promo2SinceYear                     float64\n",
       "PromoInterval                        object\n",
       "dtype: object"
      ]
     },
     "execution_count": 337,
     "metadata": {},
     "output_type": "execute_result"
    }
   ],
   "source": [
    "train_data.dtypes"
   ]
  },
  {
   "cell_type": "code",
   "execution_count": 340,
   "id": "04942405-4137-447f-b9c8-6a1ed47cb503",
   "metadata": {},
   "outputs": [],
   "source": [
    "numeric = train_data.select_dtypes(include=\"number\")\n",
    "Q1 = numeric.quantile(0.25)\n",
    "Q3 = numeric.quantile(0.75)\n",
    "IQR = Q3 - Q1\n",
    "outliers = (numeric < (Q1 - 1.5 * IQR)) | (numeric > (Q3 + 1.5 * IQR))\n",
    "train_data = train_data[~outliers.any(axis=1)]\n",
    "logging.info('Outliers detected and removed.')"
   ]
  },
  {
   "cell_type": "code",
   "execution_count": 341,
   "id": "190a950d-5754-4477-851a-de1c454aa915",
   "metadata": {},
   "outputs": [
    {
     "data": {
      "text/plain": [
       "StateHoliday\n",
       "0    572568\n",
       "Name: count, dtype: int64"
      ]
     },
     "execution_count": 341,
     "metadata": {},
     "output_type": "execute_result"
    }
   ],
   "source": [
    "train_data.StateHoliday.value_counts()"
   ]
  },
  {
   "cell_type": "markdown",
   "id": "fcc14b08-1e27-4805-bc48-f052395f5cd6",
   "metadata": {},
   "source": [
    "## Test Data Cleaning"
   ]
  },
  {
   "cell_type": "code",
   "execution_count": 342,
   "id": "72ef84fe-a30d-4c14-9f66-b1a8ec3e07b5",
   "metadata": {},
   "outputs": [
    {
     "data": {
      "text/plain": [
       "Id                               0\n",
       "Store                            0\n",
       "DayOfWeek                        0\n",
       "Date                             0\n",
       "Open                            11\n",
       "Promo                            0\n",
       "StateHoliday                     0\n",
       "SchoolHoliday                    0\n",
       "StoreType                        0\n",
       "Assortment                       0\n",
       "CompetitionDistance             96\n",
       "CompetitionOpenSinceMonth    15216\n",
       "CompetitionOpenSinceYear     15216\n",
       "Promo2                           0\n",
       "Promo2SinceWeek              17232\n",
       "Promo2SinceYear              17232\n",
       "PromoInterval                17232\n",
       "dtype: int64"
      ]
     },
     "execution_count": 342,
     "metadata": {},
     "output_type": "execute_result"
    }
   ],
   "source": [
    "test_data.isnull().sum()"
   ]
  },
  {
   "cell_type": "markdown",
   "id": "d37517ec-11e5-4a65-bd20-73624c988842",
   "metadata": {},
   "source": [
    "## Replace with mean"
   ]
  },
  {
   "cell_type": "code",
   "execution_count": 343,
   "id": "3b606971-d489-4428-81ef-1adbb4173137",
   "metadata": {},
   "outputs": [],
   "source": [
    "# data_test[\"Open\"] = data_test[\"Open\"].fillna(data_test[\"Open\"].mean())\n",
    "from sklearn.impute import SimpleImputer\n",
    "handle_missings = train_data.select_dtypes(include=\"number\")\n",
    "\n",
    "#here is for train data\n",
    "for misings in handle_missings:\n",
    "    imp = SimpleImputer()\n",
    "    train_data[misings] = train_data[misings].fillna(train_data[misings].mean())"
   ]
  },
  {
   "cell_type": "code",
   "execution_count": 344,
   "id": "e511bf0e-d250-456a-894a-f7d8fa65df10",
   "metadata": {},
   "outputs": [],
   "source": [
    "handle_missings = test_data.select_dtypes(include=\"number\")\n",
    "#for test data\n",
    "for misings in handle_missings:\n",
    "    imp = SimpleImputer()\n",
    "    test_data[misings] = test_data[misings].fillna(test_data[misings].mean())"
   ]
  },
  {
   "cell_type": "code",
   "execution_count": 351,
   "id": "19afcd3f-667c-464f-b882-e37db07672b5",
   "metadata": {},
   "outputs": [],
   "source": [
    "# For train_data\n",
    "test_data['PromoInterval'] = test_data['PromoInterval'].fillna('No Promotions')\n",
    "\n",
    "# For test_data\n",
    "train_data['PromoInterval'] = train_data['PromoInterval'].fillna('No Promotions')"
   ]
  },
  {
   "cell_type": "markdown",
   "id": "ca069917-9325-4adc-8fe5-02f9bed195b6",
   "metadata": {},
   "source": [
    "## Exploratory Analysis"
   ]
  },
  {
   "cell_type": "markdown",
   "id": "145b34d4-7d8b-4237-9249-20ae37d8068b",
   "metadata": {},
   "source": [
    "- Promo Variable distribution of Test and training"
   ]
  },
  {
   "cell_type": "code",
   "execution_count": 354,
   "id": "120f7aa3-795b-44d9-8fe4-37a0741dfb6f",
   "metadata": {},
   "outputs": [
    {
     "data": {
      "image/png": "[encoded data removed]",
      "text/plain": [
       "<Figure size 640x480 with 1 Axes>"
      ]
     },
     "metadata": {},
     "output_type": "display_data"
    }
   ],
   "source": [
    "sns.histplot(train_data['Promo'], color=\"green\",  label='Training Set')\n",
    "sns.histplot(test_data['Promo'], color=\"red\", label=\"Testing Set\")\n",
    "\n",
    "plt.title('Distribution of Promotions in Training and Test Sets')\n",
    "plt.xlabel('Promotions')\n",
    "plt.ylabel('Density')\n",
    "plt.legend()\n",
    "plt.show();"
   ]
  },
  {
   "cell_type": "code",
   "execution_count": 356,
   "id": "aee12ed0-10e4-412e-ba4e-e109c9cc2045",
   "metadata": {},
   "outputs": [
    {
     "data": {
      "text/html": [
       "<div>\n",
       "<style scoped>\n",
       "    .dataframe tbody tr th:only-of-type {\n",
       "        vertical-align: middle;\n",
       "    }\n",
       "\n",
       "    .dataframe tbody tr th {\n",
       "        vertical-align: top;\n",
       "    }\n",
       "\n",
       "    .dataframe thead th {\n",
       "        text-align: right;\n",
       "    }\n",
       "</style>\n",
       "<table border=\"1\" class=\"dataframe\">\n",
       "  <thead>\n",
       "    <tr style=\"text-align: right;\">\n",
       "      <th></th>\n",
       "      <th>Store</th>\n",
       "      <th>DayOfWeek</th>\n",
       "      <th>Date</th>\n",
       "      <th>Sales</th>\n",
       "      <th>Customers</th>\n",
       "      <th>Open</th>\n",
       "      <th>Promo</th>\n",
       "      <th>StateHoliday</th>\n",
       "      <th>SchoolHoliday</th>\n",
       "      <th>StoreType</th>\n",
       "      <th>Assortment</th>\n",
       "      <th>CompetitionDistance</th>\n",
       "      <th>CompetitionOpenSinceMonth</th>\n",
       "      <th>CompetitionOpenSinceYear</th>\n",
       "      <th>Promo2</th>\n",
       "      <th>Promo2SinceWeek</th>\n",
       "      <th>Promo2SinceYear</th>\n",
       "      <th>PromoInterval</th>\n",
       "    </tr>\n",
       "  </thead>\n",
       "  <tbody>\n",
       "    <tr>\n",
       "      <th>12</th>\n",
       "      <td>13</td>\n",
       "      <td>5</td>\n",
       "      <td>2015-07-31</td>\n",
       "      <td>8821</td>\n",
       "      <td>568</td>\n",
       "      <td>1</td>\n",
       "      <td>1</td>\n",
       "      <td>0</td>\n",
       "      <td>0</td>\n",
       "      <td>d</td>\n",
       "      <td>a</td>\n",
       "      <td>310.0</td>\n",
       "      <td>7.276571</td>\n",
       "      <td>2009.113456</td>\n",
       "      <td>1</td>\n",
       "      <td>45.0</td>\n",
       "      <td>2009.0</td>\n",
       "      <td>No Promotions</td>\n",
       "    </tr>\n",
       "    <tr>\n",
       "      <th>19</th>\n",
       "      <td>20</td>\n",
       "      <td>5</td>\n",
       "      <td>2015-07-31</td>\n",
       "      <td>9593</td>\n",
       "      <td>974</td>\n",
       "      <td>1</td>\n",
       "      <td>1</td>\n",
       "      <td>0</td>\n",
       "      <td>0</td>\n",
       "      <td>d</td>\n",
       "      <td>a</td>\n",
       "      <td>2340.0</td>\n",
       "      <td>5.000000</td>\n",
       "      <td>2009.000000</td>\n",
       "      <td>1</td>\n",
       "      <td>40.0</td>\n",
       "      <td>2014.0</td>\n",
       "      <td>No Promotions</td>\n",
       "    </tr>\n",
       "    <tr>\n",
       "      <th>21</th>\n",
       "      <td>22</td>\n",
       "      <td>5</td>\n",
       "      <td>2015-07-31</td>\n",
       "      <td>6566</td>\n",
       "      <td>633</td>\n",
       "      <td>1</td>\n",
       "      <td>1</td>\n",
       "      <td>0</td>\n",
       "      <td>0</td>\n",
       "      <td>a</td>\n",
       "      <td>a</td>\n",
       "      <td>1040.0</td>\n",
       "      <td>7.276571</td>\n",
       "      <td>2009.113456</td>\n",
       "      <td>1</td>\n",
       "      <td>22.0</td>\n",
       "      <td>2012.0</td>\n",
       "      <td>No Promotions</td>\n",
       "    </tr>\n",
       "    <tr>\n",
       "      <th>31</th>\n",
       "      <td>32</td>\n",
       "      <td>5</td>\n",
       "      <td>2015-07-31</td>\n",
       "      <td>6395</td>\n",
       "      <td>635</td>\n",
       "      <td>1</td>\n",
       "      <td>1</td>\n",
       "      <td>0</td>\n",
       "      <td>0</td>\n",
       "      <td>a</td>\n",
       "      <td>a</td>\n",
       "      <td>2910.0</td>\n",
       "      <td>7.276571</td>\n",
       "      <td>2009.113456</td>\n",
       "      <td>1</td>\n",
       "      <td>45.0</td>\n",
       "      <td>2009.0</td>\n",
       "      <td>No Promotions</td>\n",
       "    </tr>\n",
       "    <tr>\n",
       "      <th>35</th>\n",
       "      <td>36</td>\n",
       "      <td>5</td>\n",
       "      <td>2015-07-31</td>\n",
       "      <td>12422</td>\n",
       "      <td>1251</td>\n",
       "      <td>1</td>\n",
       "      <td>1</td>\n",
       "      <td>0</td>\n",
       "      <td>0</td>\n",
       "      <td>a</td>\n",
       "      <td>c</td>\n",
       "      <td>540.0</td>\n",
       "      <td>6.000000</td>\n",
       "      <td>2003.000000</td>\n",
       "      <td>1</td>\n",
       "      <td>40.0</td>\n",
       "      <td>2014.0</td>\n",
       "      <td>No Promotions</td>\n",
       "    </tr>\n",
       "  </tbody>\n",
       "</table>\n",
       "</div>"
      ],
      "text/plain": [
       "    Store  DayOfWeek       Date  Sales  Customers  Open  Promo  StateHoliday  \\\n",
       "12     13          5 2015-07-31   8821        568     1      1             0   \n",
       "19     20          5 2015-07-31   9593        974     1      1             0   \n",
       "21     22          5 2015-07-31   6566        633     1      1             0   \n",
       "31     32          5 2015-07-31   6395        635     1      1             0   \n",
       "35     36          5 2015-07-31  12422       1251     1      1             0   \n",
       "\n",
       "    SchoolHoliday StoreType Assortment  CompetitionDistance  \\\n",
       "12              0         d          a                310.0   \n",
       "19              0         d          a               2340.0   \n",
       "21              0         a          a               1040.0   \n",
       "31              0         a          a               2910.0   \n",
       "35              0         a          c                540.0   \n",
       "\n",
       "    CompetitionOpenSinceMonth  CompetitionOpenSinceYear  Promo2  \\\n",
       "12                   7.276571               2009.113456       1   \n",
       "19                   5.000000               2009.000000       1   \n",
       "21                   7.276571               2009.113456       1   \n",
       "31                   7.276571               2009.113456       1   \n",
       "35                   6.000000               2003.000000       1   \n",
       "\n",
       "    Promo2SinceWeek  Promo2SinceYear  PromoInterval  \n",
       "12             45.0           2009.0  No Promotions  \n",
       "19             40.0           2014.0  No Promotions  \n",
       "21             22.0           2012.0  No Promotions  \n",
       "31             45.0           2009.0  No Promotions  \n",
       "35             40.0           2014.0  No Promotions  "
      ]
     },
     "execution_count": 356,
     "metadata": {},
     "output_type": "execute_result"
    }
   ],
   "source": [
    "train_data.head()"
   ]
  },
  {
   "cell_type": "markdown",
   "id": "c7e8ebfb-e56b-444b-901e-4164da4154b4",
   "metadata": {},
   "source": [
    "## Sales Behavior Around Holidays"
   ]
  },
  {
   "cell_type": "code",
   "execution_count": 357,
   "id": "016ac822-bbf9-4f97-b8e7-1a98c6205b66",
   "metadata": {},
   "outputs": [
    {
     "name": "stdout",
     "output_type": "stream",
     "text": [
      "  Holiday       Sales\n",
      "0   After  3695304227\n"
     ]
    }
   ],
   "source": [
    "train_data['Date'] = pd.to_datetime(train_data['Date'])\n",
    "\n",
    "# Create a column for holiday status\n",
    "train_data['Holiday'] = train_data['StateHoliday'].apply(lambda x: 'Before' if x == '0' \n",
    "                                               else 'During' if x in ['a', 'b', 'c'] \n",
    "                                               else 'After')\n",
    "\n",
    "# Group by holiday status and analyze sales\n",
    "holiday_sales = train_data.groupby('Holiday')['Sales'].sum().reset_index()\n",
    "print(holiday_sales)"
   ]
  },
  {
   "cell_type": "code",
   "execution_count": 359,
   "id": "3fde9908-e5b9-48aa-b6d3-24307a2c6c38",
   "metadata": {},
   "outputs": [
    {
     "data": {
      "text/plain": [
       "Index(['Id', 'Store', 'DayOfWeek', 'Date', 'Open', 'Promo', 'StateHoliday',\n",
       "       'SchoolHoliday', 'StoreType', 'Assortment', 'CompetitionDistance',\n",
       "       'CompetitionOpenSinceMonth', 'CompetitionOpenSinceYear', 'Promo2',\n",
       "       'Promo2SinceWeek', 'Promo2SinceYear', 'PromoInterval', 'Holiday'],\n",
       "      dtype='object')"
      ]
     },
     "execution_count": 359,
     "metadata": {},
     "output_type": "execute_result"
    }
   ],
   "source": [
    "test_data.columns"
   ]
  },
  {
   "cell_type": "markdown",
   "id": "8601b781-8eb7-45c3-9ecc-66bacb82423c",
   "metadata": {},
   "source": [
    "## Seasonal Purchase Behaviors"
   ]
  },
  {
   "cell_type": "markdown",
   "id": "6e0870d0-7cdd-4f35-bfe4-bd5d4e28531e",
   "metadata": {},
   "source": [
    "- #### # Example for Christmas (December 25)"
   ]
  },
  {
   "cell_type": "code",
   "execution_count": 364,
   "id": "0862b0e2-d092-450e-80d6-352f37b4b40c",
   "metadata": {},
   "outputs": [
    {
     "name": "stdout",
     "output_type": "stream",
     "text": [
      "       Sales  Customers\n",
      "count    0.0        0.0\n",
      "mean     NaN        NaN\n",
      "std      NaN        NaN\n",
      "min      NaN        NaN\n",
      "25%      NaN        NaN\n",
      "50%      NaN        NaN\n",
      "75%      NaN        NaN\n",
      "max      NaN        NaN\n"
     ]
    }
   ],
   "source": [
    "train_data['Month'] = train_data['Date'].dt.month\n",
    "train_data['Day'] = train_data['Date'].dt.day\n",
    "\n",
    "# Example for Christmas (December 25)\n",
    "christmas_sales = train_data[(train_data['Month'] == 12) & (train_data['Day'] == 25)]\n",
    "print(christmas_sales[['Sales', 'Customers']].describe())"
   ]
  },
  {
   "cell_type": "markdown",
   "id": "fcb93bd6-4c3a-48ac-8b31-641f70bd11bd",
   "metadata": {},
   "source": [
    "- ##### Example for Easter (April 9, 2023)"
   ]
  },
  {
   "cell_type": "code",
   "execution_count": 368,
   "id": "a4f23727-a3b8-4dfe-8c2f-2635fda23c3e",
   "metadata": {},
   "outputs": [
    {
     "name": "stdout",
     "output_type": "stream",
     "text": [
      "\n",
      "Easter Sales:\n",
      "              Sales    Customers\n",
      "count   1855.000000  1855.000000\n",
      "mean    6266.250674   689.585984\n",
      "std     2048.366780   246.547612\n",
      "min     1544.000000   201.000000\n",
      "25%     4715.500000   505.500000\n",
      "50%     5971.000000   643.000000\n",
      "75%     7534.000000   843.500000\n",
      "max    13627.000000  1467.000000\n"
     ]
    }
   ],
   "source": [
    "easter_sales = train_data[(train_data['Month'] == 4) & (train_data['Day'] == 9)]\n",
    "print(\"\\nEaster Sales:\")\n",
    "print(easter_sales[['Sales', 'Customers']].describe())"
   ]
  },
  {
   "cell_type": "markdown",
   "id": "393dbeff-2fe6-4b79-92ee-1db89144b83e",
   "metadata": {},
   "source": [
    "- #### Example for New Year's Day (January 1)"
   ]
  },
  {
   "cell_type": "code",
   "execution_count": 366,
   "id": "10e590dd-2daa-4153-a755-be921dd46aab",
   "metadata": {},
   "outputs": [
    {
     "name": "stdout",
     "output_type": "stream",
     "text": [
      "New Year Sales:\n",
      "       Sales  Customers\n",
      "count    0.0        0.0\n",
      "mean     NaN        NaN\n",
      "std      NaN        NaN\n",
      "min      NaN        NaN\n",
      "25%      NaN        NaN\n",
      "50%      NaN        NaN\n",
      "75%      NaN        NaN\n",
      "max      NaN        NaN\n"
     ]
    }
   ],
   "source": [
    "new_year_sales = train_data[(train_data['Month'] == 1) & (train_data['Day'] == 1)]\n",
    "print(\"New Year Sales:\")\n",
    "print(new_year_sales[['Sales', 'Customers']].describe())"
   ]
  },
  {
   "cell_type": "markdown",
   "id": "18d2acda-88ae-420f-9d85-01e32cc38c1d",
   "metadata": {},
   "source": [
    "## Correlation Between Sales and Customers"
   ]
  },
  {
   "cell_type": "code",
   "execution_count": 369,
   "id": "a14dfa1d-114f-400c-b73a-b6b86bb84497",
   "metadata": {},
   "outputs": [
    {
     "name": "stdout",
     "output_type": "stream",
     "text": [
      "Correlation between Sales and Customers: 0.7921244154156036\n"
     ]
    }
   ],
   "source": [
    "correlation = train_data['Sales'].corr(train_data['Customers'])\n",
    "print(f\"Correlation between Sales and Customers: {correlation}\")"
   ]
  },
  {
   "cell_type": "markdown",
   "id": "77b8d55a-2b0d-40d6-b6a7-691d14eaf4e3",
   "metadata": {},
   "source": [
    "## Promo Effect on Sales and Customer Influx"
   ]
  },
  {
   "cell_type": "code",
   "execution_count": 370,
   "id": "a533a9ba-59b5-428a-a2fb-3349fdb3f2d4",
   "metadata": {},
   "outputs": [
    {
     "name": "stdout",
     "output_type": "stream",
     "text": [
      "   Promo        Sales\n",
      "0      0  5593.948509\n",
      "1      1  7590.114665\n",
      "   Promo   Customers\n",
      "0      0  641.671179\n",
      "1      1  766.726303\n"
     ]
    }
   ],
   "source": [
    "promo_effect = train_data.groupby('Promo')['Sales'].mean().reset_index()\n",
    "print(promo_effect)\n",
    "\n",
    "# Check customer influx during promo\n",
    "promo_customers = train_data.groupby('Promo')['Customers'].mean().reset_index()\n",
    "print(promo_customers)"
   ]
  },
  {
   "cell_type": "markdown",
   "id": "3f707984-200b-466b-8bc0-71c88f34213e",
   "metadata": {},
   "source": [
    "## Effective Promo Deployment\n",
    "- To identify which stores benefit most from promotions"
   ]
  },
  {
   "cell_type": "code",
   "execution_count": 371,
   "id": "40ca06aa-a9dc-4f32-9a57-6b252d1a6a82",
   "metadata": {},
   "outputs": [
    {
     "data": {
      "text/html": [
       "<div>\n",
       "<style scoped>\n",
       "    .dataframe tbody tr th:only-of-type {\n",
       "        vertical-align: middle;\n",
       "    }\n",
       "\n",
       "    .dataframe tbody tr th {\n",
       "        vertical-align: top;\n",
       "    }\n",
       "\n",
       "    .dataframe thead th {\n",
       "        text-align: right;\n",
       "    }\n",
       "</style>\n",
       "<table border=\"1\" class=\"dataframe\">\n",
       "  <thead>\n",
       "    <tr style=\"text-align: right;\">\n",
       "      <th></th>\n",
       "      <th>Store</th>\n",
       "      <th>Promo</th>\n",
       "      <th>Sales</th>\n",
       "    </tr>\n",
       "  </thead>\n",
       "  <tbody>\n",
       "    <tr>\n",
       "      <th>0</th>\n",
       "      <td>1</td>\n",
       "      <td>0</td>\n",
       "      <td>1493688</td>\n",
       "    </tr>\n",
       "    <tr>\n",
       "      <th>1</th>\n",
       "      <td>1</td>\n",
       "      <td>1</td>\n",
       "      <td>1455754</td>\n",
       "    </tr>\n",
       "    <tr>\n",
       "      <th>2</th>\n",
       "      <td>2</td>\n",
       "      <td>0</td>\n",
       "      <td>1323793</td>\n",
       "    </tr>\n",
       "    <tr>\n",
       "      <th>3</th>\n",
       "      <td>2</td>\n",
       "      <td>1</td>\n",
       "      <td>1740018</td>\n",
       "    </tr>\n",
       "    <tr>\n",
       "      <th>4</th>\n",
       "      <td>3</td>\n",
       "      <td>0</td>\n",
       "      <td>1804097</td>\n",
       "    </tr>\n",
       "    <tr>\n",
       "      <th>...</th>\n",
       "      <td>...</td>\n",
       "      <td>...</td>\n",
       "      <td>...</td>\n",
       "    </tr>\n",
       "    <tr>\n",
       "      <th>1963</th>\n",
       "      <td>1112</td>\n",
       "      <td>1</td>\n",
       "      <td>2267466</td>\n",
       "    </tr>\n",
       "    <tr>\n",
       "      <th>1964</th>\n",
       "      <td>1113</td>\n",
       "      <td>0</td>\n",
       "      <td>2091020</td>\n",
       "    </tr>\n",
       "    <tr>\n",
       "      <th>1965</th>\n",
       "      <td>1113</td>\n",
       "      <td>1</td>\n",
       "      <td>2094218</td>\n",
       "    </tr>\n",
       "    <tr>\n",
       "      <th>1966</th>\n",
       "      <td>1115</td>\n",
       "      <td>0</td>\n",
       "      <td>1920100</td>\n",
       "    </tr>\n",
       "    <tr>\n",
       "      <th>1967</th>\n",
       "      <td>1115</td>\n",
       "      <td>1</td>\n",
       "      <td>1999933</td>\n",
       "    </tr>\n",
       "  </tbody>\n",
       "</table>\n",
       "<p>1968 rows × 3 columns</p>\n",
       "</div>"
      ],
      "text/plain": [
       "      Store  Promo    Sales\n",
       "0         1      0  1493688\n",
       "1         1      1  1455754\n",
       "2         2      0  1323793\n",
       "3         2      1  1740018\n",
       "4         3      0  1804097\n",
       "...     ...    ...      ...\n",
       "1963   1112      1  2267466\n",
       "1964   1113      0  2091020\n",
       "1965   1113      1  2094218\n",
       "1966   1115      0  1920100\n",
       "1967   1115      1  1999933\n",
       "\n",
       "[1968 rows x 3 columns]"
      ]
     },
     "execution_count": 371,
     "metadata": {},
     "output_type": "execute_result"
    }
   ],
   "source": [
    "store_promo_effect = train_data.groupby(['Store', 'Promo'])['Sales'].sum().reset_index()\n",
    "store_promo_effect"
   ]
  },
  {
   "cell_type": "markdown",
   "id": "ef2d0b3b-d8b1-4796-8815-43f7b6bfb568",
   "metadata": {},
   "source": [
    "### Customer Behavior During Store Opening and Closing Times"
   ]
  },
  {
   "cell_type": "code",
   "execution_count": 373,
   "id": "a02ff887-fd56-44b1-a3cf-2f4972d72e58",
   "metadata": {},
   "outputs": [
    {
     "name": "stdout",
     "output_type": "stream",
     "text": [
      "   Open  DayOfWeek        Sales\n",
      "0  True          1  7319.910889\n",
      "1  True          2  6625.812771\n",
      "2  True          3  6384.534826\n",
      "3  True          4  6362.629525\n",
      "4  True          5  6745.107739\n",
      "5  True          6  5616.340301\n",
      "6  True          7  5273.294817\n"
     ]
    }
   ],
   "source": [
    "train_data['Open'] = train_data['Open'].astype(bool)\n",
    "opening_behavior = train_data.groupby(['Open', 'DayOfWeek'])['Sales'].mean().reset_index()\n",
    "print(opening_behavior)"
   ]
  },
  {
   "cell_type": "markdown",
   "id": "77941274-886c-4c18-b6b2-dd4bf3ab329a",
   "metadata": {},
   "source": [
    "## Stores Open on All Weekdays"
   ]
  },
  {
   "cell_type": "code",
   "execution_count": 374,
   "id": "39adf8d7-7809-46f3-abaa-af414bc08b80",
   "metadata": {},
   "outputs": [
    {
     "name": "stdout",
     "output_type": "stream",
     "text": [
      "       Sales\n",
      "Store       \n",
      "335    20658\n"
     ]
    }
   ],
   "source": [
    "open_stores_weekdays = train_data[train_data['Open']].groupby('Store')['DayOfWeek'].nunique()\n",
    "stores_open_all_weekdays = open_stores_weekdays[open_stores_weekdays == 5].index\n",
    "weekend_sales = train_data[train_data['Store'].isin(stores_open_all_weekdays) & (train_data['DayOfWeek'].isin([5, 6]))]\n",
    "print(weekend_sales[['Store', 'Sales']].groupby('Store').sum())"
   ]
  },
  {
   "cell_type": "markdown",
   "id": "da1b48f3-be6d-424a-b722-dd4df91190c1",
   "metadata": {},
   "source": [
    "## Assortment Type Impact on Sales"
   ]
  },
  {
   "cell_type": "code",
   "execution_count": 375,
   "id": "155d24ca-3f15-450a-9c85-7d853a579f34",
   "metadata": {},
   "outputs": [
    {
     "name": "stdout",
     "output_type": "stream",
     "text": [
      "  Assortment        Sales\n",
      "0          a  6209.975257\n",
      "1          b  4607.171429\n",
      "2          c  6756.045875\n"
     ]
    }
   ],
   "source": [
    "assortment_sales = train_data.groupby('Assortment')['Sales'].mean().reset_index()\n",
    "print(assortment_sales)"
   ]
  },
  {
   "cell_type": "markdown",
   "id": "d1b66c8e-4ad8-4220-a98b-6f45647ae7c8",
   "metadata": {},
   "source": [
    " ##  Distance to Competitors\n",
    " - no copition distance column in the dataset"
   ]
  },
  {
   "cell_type": "code",
   "execution_count": 380,
   "id": "4be90b33-11ac-4cb9-8630-d3cf2e04a040",
   "metadata": {},
   "outputs": [
    {
     "name": "stdout",
     "output_type": "stream",
     "text": [
      "     CompetitionDistance         Sales\n",
      "0                   20.0   5838.519293\n",
      "1                   30.0   5607.373854\n",
      "2                   40.0   7022.123302\n",
      "3                   50.0   6132.547856\n",
      "4                   60.0   8776.585538\n",
      "..                   ...           ...\n",
      "543              15490.0   6779.785374\n",
      "544              15700.0   7258.013725\n",
      "545              15710.0   8135.084359\n",
      "546              15720.0   6072.037559\n",
      "547              15770.0  10716.198312\n",
      "\n",
      "[548 rows x 2 columns]\n"
     ]
    }
   ],
   "source": [
    "train_data['CompetitionDistance'].ffill(inplace=True)\n",
    "\n",
    "# Group by CompetitionDistance and calculate mean sales\n",
    "distance_sales = train_data.groupby('CompetitionDistance')['Sales'].mean().reset_index()\n",
    "\n",
    "# Display the result\n",
    "print(distance_sales)"
   ]
  },
  {
   "cell_type": "markdown",
   "id": "231e2257-3f43-4f97-a360-7a0f36674751",
   "metadata": {},
   "source": [
    "## Opening/Reopening of Competitors"
   ]
  },
  {
   "cell_type": "code",
   "execution_count": 381,
   "id": "ce554c34-d04b-454e-9bc8-11a34d8abaca",
   "metadata": {},
   "outputs": [
    {
     "name": "stdout",
     "output_type": "stream",
     "text": [
      "Empty DataFrame\n",
      "Columns: [Store, Date, CompetitionDistance]\n",
      "Index: []\n"
     ]
    }
   ],
   "source": [
    "competitor_changes = train_data[train_data['CompetitionDistance'].isna() & train_data['CompetitionDistance'].notna()]\n",
    "print(competitor_changes[['Store', 'Date', 'CompetitionDistance']])"
   ]
  },
  {
   "cell_type": "code",
   "execution_count": 382,
   "id": "dec438a8-4cbf-412e-91cd-a1bc5237b00f",
   "metadata": {},
   "outputs": [
    {
     "data": {
      "text/plain": [
       "Index(['Store', 'DayOfWeek', 'Date', 'Sales', 'Customers', 'Open', 'Promo',\n",
       "       'StateHoliday', 'SchoolHoliday', 'StoreType', 'Assortment',\n",
       "       'CompetitionDistance', 'CompetitionOpenSinceMonth',\n",
       "       'CompetitionOpenSinceYear', 'Promo2', 'Promo2SinceWeek',\n",
       "       'Promo2SinceYear', 'PromoInterval', 'Holiday', 'Month', 'Day'],\n",
       "      dtype='object')"
      ]
     },
     "execution_count": 382,
     "metadata": {},
     "output_type": "execute_result"
    }
   ],
   "source": [
    "train_data.columns"
   ]
  },
  {
   "cell_type": "code",
   "execution_count": null,
   "id": "e5a0a313-9a5e-47bf-a618-d8c95eea62ff",
   "metadata": {},
   "outputs": [],
   "source": []
  }
 ],
 "metadata": {
  "kernelspec": {
   "display_name": "Python 3 (ipykernel)",
   "language": "python",
   "name": "python3"
  },
  "language_info": {
   "codemirror_mode": {
    "name": "ipython",
    "version": 3
   },
   "file_extension": ".py",
   "mimetype": "text/x-python",
   "name": "python",
   "nbconvert_exporter": "python",
   "pygments_lexer": "ipython3",
   "version": "3.12.4"
  }
 },
 "nbformat": 4,
 "nbformat_minor": 5
}
